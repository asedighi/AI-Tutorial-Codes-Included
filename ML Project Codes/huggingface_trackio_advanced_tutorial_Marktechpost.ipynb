{
  "nbformat": 4,
  "nbformat_minor": 0,
  "metadata": {
    "colab": {
      "provenance": []
    },
    "kernelspec": {
      "name": "python3",
      "display_name": "Python 3"
    },
    "language_info": {
      "name": "python"
    }
  },
  "cells": [
    {
      "cell_type": "code",
      "source": [
        "!pip -q install -U trackio scikit-learn pandas matplotlib\n",
        "\n",
        "import os, time, math, json, random, pathlib, itertools, tempfile\n",
        "from dataclasses import dataclass\n",
        "import numpy as np\n",
        "import pandas as pd\n",
        "from sklearn.datasets import make_classification\n",
        "from sklearn.linear_model import SGDClassifier\n",
        "from sklearn.metrics import accuracy_score, log_loss, confusion_matrix\n",
        "from sklearn.model_selection import train_test_split\n",
        "from sklearn.preprocessing import StandardScaler\n",
        "import trackio"
      ],
      "metadata": {
        "id": "Vb0N5I5TtSjx"
      },
      "execution_count": null,
      "outputs": []
    },
    {
      "cell_type": "code",
      "source": [
        "def make_dataset(n=12000, n_informative=18, n_classes=3, seed=42):\n",
        "    X, y = make_classification(\n",
        "        n_samples=n, n_features=32, n_informative=n_informative, n_redundant=0,\n",
        "        n_classes=n_classes, random_state=seed, class_sep=2.0\n",
        "    )\n",
        "    X_train, X_temp, y_train, y_temp = train_test_split(X, y, test_size=0.3, random_state=seed)\n",
        "    X_val, X_test, y_val, y_test = train_test_split(X_temp, y_temp, test_size=0.5, random_state=seed)\n",
        "    ss = StandardScaler().fit(X_train)\n",
        "    return ss.transform(X_train), y_train, ss.transform(X_val), y_val, ss.transform(X_test), y_test\n",
        "\n",
        "def batches(X, y, bs, shuffle=True, seed=0):\n",
        "    idx = np.arange(len(X))\n",
        "    if shuffle:\n",
        "        rng = np.random.default_rng(seed)\n",
        "        rng.shuffle(idx)\n",
        "    for i in range(0, len(X), bs):\n",
        "        j = idx[i:i+bs]\n",
        "        yield X[j], y[j]\n",
        "\n",
        "def cm_table(y_true, y_pred):\n",
        "    cm = confusion_matrix(y_true, y_pred)\n",
        "    df = pd.DataFrame(cm, columns=[f\"pred_{i}\" for i in range(cm.shape[0])])\n",
        "    df.insert(0, \"true\", [f\"true_{i}\" for i in range(cm.shape[0])])\n",
        "    return df"
      ],
      "metadata": {
        "id": "31PBeDBdtciz"
      },
      "execution_count": null,
      "outputs": []
    },
    {
      "cell_type": "code",
      "source": [
        "@dataclass\n",
        "class RunCfg:\n",
        "    lr: float = 0.05\n",
        "    l2: float = 1e-4\n",
        "    epochs: int = 8\n",
        "    batch_size: int = 256\n",
        "    seed: int = 0\n",
        "    project: str = \"trackio-demo\"\n",
        "\n",
        "def train_and_log(cfg: RunCfg, Xtr, ytr, Xva, yva):\n",
        "    run = trackio.init(\n",
        "        project=cfg.project,\n",
        "        name=f\"sgd_lr{cfg.lr}_l2{cfg.l2}\",\n",
        "        config={\"lr\": cfg.lr, \"l2\": cfg.l2, \"epochs\": cfg.epochs, \"batch_size\": cfg.batch_size, \"seed\": cfg.seed}\n",
        "    )\n",
        "\n",
        "    clf = SGDClassifier(loss=\"log_loss\", penalty=\"l2\", alpha=cfg.l2, learning_rate=\"constant\",\n",
        "                        eta0=cfg.lr, random_state=cfg.seed)\n",
        "    n_classes = len(np.unique(ytr))\n",
        "    clf.partial_fit(Xtr[:cfg.batch_size], ytr[:cfg.batch_size], classes=np.arange(n_classes))\n",
        "\n",
        "    global_step = 0\n",
        "    for epoch in range(cfg.epochs):\n",
        "        epoch_losses = []\n",
        "        for xb, yb in batches(Xtr, ytr, cfg.batch_size, shuffle=True, seed=cfg.seed + epoch):\n",
        "            clf.partial_fit(xb, yb)\n",
        "            probs = np.clip(clf.predict_proba(xb), 1e-9, 1 - 1e-9)\n",
        "            loss = log_loss(yb, probs, labels=np.arange(n_classes))\n",
        "            epoch_losses.append(loss)\n",
        "            global_step += 1\n",
        "\n",
        "        val_probs = np.clip(clf.predict_proba(Xva), 1e-9, 1 - 1e-9)\n",
        "        val_preds = np.argmax(val_probs, axis=1)\n",
        "        val_loss = log_loss(yva, val_probs, labels=np.arange(n_classes))\n",
        "        val_acc  = accuracy_score(yva, val_preds)\n",
        "        train_loss = float(np.mean(epoch_losses))\n",
        "\n",
        "        trackio.log({\n",
        "            \"epoch\": epoch,\n",
        "            \"train_loss\": train_loss,\n",
        "            \"val_loss\": val_loss,\n",
        "            \"val_accuracy\": val_acc\n",
        "        })\n",
        "\n",
        "        if epoch in {cfg.epochs//2, cfg.epochs-1}:\n",
        "            df = cm_table(yva, val_preds)\n",
        "            tbl = trackio.Table(dataframe=df)\n",
        "            trackio.log({f\"val_confusion_epoch_{epoch}\": tbl})\n",
        "\n",
        "        time.sleep(0.15)\n",
        "\n",
        "    trackio.finish()\n",
        "    return val_acc"
      ],
      "metadata": {
        "id": "-zxSRmvItkV1"
      },
      "execution_count": null,
      "outputs": []
    },
    {
      "cell_type": "code",
      "source": [
        "Xtr, ytr, Xva, yva, Xte, yte = make_dataset()\n",
        "grid = list(itertools.product([0.01, 0.03, 0.1], [1e-5, 1e-4, 1e-3]))\n",
        "results = []\n",
        "for lr, l2 in grid:\n",
        "    acc = train_and_log(RunCfg(lr=lr, l2=l2, seed=123), Xtr, ytr, Xva, yva)\n",
        "    results.append({\"lr\": lr, \"l2\": l2, \"val_acc\": acc})\n",
        "\n",
        "summary = pd.DataFrame(results).sort_values(\"val_acc\", ascending=False).reset_index(drop=True)\n",
        "best = summary.iloc[0].to_dict()\n",
        "run = trackio.init(project=\"trackio-demo\", name=\"summary\", config={\"note\": \"sweep results\"})\n",
        "trackio.log({\"best_val_acc\": float(best[\"val_acc\"]), \"best_lr\": float(best[\"lr\"]), \"best_l2\": float(best[\"l2\"])})\n",
        "trackio.log({\"sweep_table\": trackio.Table(dataframe=summary)})\n",
        "trackio.finish()"
      ],
      "metadata": {
        "id": "m6ltaJGntnbJ"
      },
      "execution_count": null,
      "outputs": []
    },
    {
      "cell_type": "code",
      "execution_count": 1,
      "metadata": {
        "colab": {
          "base_uri": "https://localhost:8080/"
        },
        "id": "2_DtvxSisXVc",
        "outputId": "4393f44c-9918-4a43-bf9c-bbd28c4380c4"
      },
      "outputs": [
        {
          "output_type": "stream",
          "name": "stdout",
          "text": [
            "\u001b[2K     \u001b[90m━━━━━━━━━━━━━━━━━━━━━━━━━━━━━━━━━━━━━━━━\u001b[0m \u001b[32m91.2/91.2 kB\u001b[0m \u001b[31m2.3 MB/s\u001b[0m eta \u001b[36m0:00:00\u001b[0m\n",
            "\u001b[2K   \u001b[90m━━━━━━━━━━━━━━━━━━━━━━━━━━━━━━━━━━━━━━━━\u001b[0m \u001b[32m851.6/851.6 kB\u001b[0m \u001b[31m17.6 MB/s\u001b[0m eta \u001b[36m0:00:00\u001b[0m\n",
            "\u001b[2K   \u001b[90m━━━━━━━━━━━━━━━━━━━━━━━━━━━━━━━━━━━━━━━━\u001b[0m \u001b[32m9.5/9.5 MB\u001b[0m \u001b[31m30.5 MB/s\u001b[0m eta \u001b[36m0:00:00\u001b[0m\n",
            "\u001b[2K   \u001b[90m━━━━━━━━━━━━━━━━━━━━━━━━━━━━━━━━━━━━━━━━\u001b[0m \u001b[32m12.0/12.0 MB\u001b[0m \u001b[31m38.7 MB/s\u001b[0m eta \u001b[36m0:00:00\u001b[0m\n",
            "\u001b[2K   \u001b[90m━━━━━━━━━━━━━━━━━━━━━━━━━━━━━━━━━━━━━━━━\u001b[0m \u001b[32m8.7/8.7 MB\u001b[0m \u001b[31m29.6 MB/s\u001b[0m eta \u001b[36m0:00:00\u001b[0m\n",
            "\u001b[?25h\u001b[31mERROR: pip's dependency resolver does not currently take into account all the packages that are installed. This behaviour is the source of the following dependency conflicts.\n",
            "google-colab 1.0.0 requires pandas==2.2.2, but you have pandas 2.3.2 which is incompatible.\n",
            "dask-cudf-cu12 25.6.0 requires pandas<2.2.4dev0,>=2.0, but you have pandas 2.3.2 which is incompatible.\n",
            "cudf-cu12 25.6.0 requires pandas<2.2.4dev0,>=2.0, but you have pandas 2.3.2 which is incompatible.\u001b[0m\u001b[31m\n",
            "\u001b[0m* Running on public URL: https://76bbc3bd25ff0863eb.gradio.live\n",
            "* Trackio project initialized: trackio-demo\n",
            "* Trackio metrics logged to: /root/.cache/huggingface/trackio\n",
            "* View dashboard by running in your terminal:\n",
            "\u001b[1m\u001b[93mtrackio show --project \"trackio-demo\"\u001b[0m\n",
            "* or by running in Python: trackio.show(project=\"trackio-demo\")\n"
          ]
        },
        {
          "output_type": "stream",
          "name": "stderr",
          "text": [
            "/usr/local/lib/python3.12/dist-packages/huggingface_hub/utils/_auth.py:94: UserWarning: \n",
            "The secret `HF_TOKEN` does not exist in your Colab secrets.\n",
            "To authenticate with the Hugging Face Hub, create a token in your settings tab (https://huggingface.co/settings/tokens), set it as secret in your Google Colab and restart your session.\n",
            "You will be able to reuse this secret in all of your notebooks.\n",
            "Please note that authentication is recommended but still optional to access public models or datasets.\n",
            "  warnings.warn(\n"
          ]
        },
        {
          "output_type": "stream",
          "name": "stdout",
          "text": [
            "* Created new run: sgd_lr0.01_l21e-05\n",
            "* Run finished. Uploading logs to Trackio Space: http://127.0.0.1:7860/ (please wait...)\n",
            "* Created new run: sgd_lr0.01_l20.0001\n",
            "* Run finished. Uploading logs to Trackio Space: http://127.0.0.1:7860/ (please wait...)\n",
            "* Created new run: sgd_lr0.01_l20.001\n",
            "* Run finished. Uploading logs to Trackio Space: http://127.0.0.1:7860/ (please wait...)\n",
            "* Created new run: sgd_lr0.03_l21e-05\n",
            "* Run finished. Uploading logs to Trackio Space: http://127.0.0.1:7860/ (please wait...)\n",
            "* Created new run: sgd_lr0.03_l20.0001\n",
            "* Run finished. Uploading logs to Trackio Space: http://127.0.0.1:7860/ (please wait...)\n",
            "* Created new run: sgd_lr0.03_l20.001\n",
            "* Run finished. Uploading logs to Trackio Space: http://127.0.0.1:7860/ (please wait...)\n",
            "* Created new run: sgd_lr0.1_l21e-05\n",
            "* Run finished. Uploading logs to Trackio Space: http://127.0.0.1:7860/ (please wait...)\n",
            "* Created new run: sgd_lr0.1_l20.0001\n",
            "* Run finished. Uploading logs to Trackio Space: http://127.0.0.1:7860/ (please wait...)\n",
            "* Created new run: sgd_lr0.1_l20.001\n",
            "* Run finished. Uploading logs to Trackio Space: http://127.0.0.1:7860/ (please wait...)\n",
            "* Created new run: summary\n",
            "* Run finished. Uploading logs to Trackio Space: http://127.0.0.1:7860/ (please wait...)\n",
            "* Imported 10 rows from /content/trackio_demo_metrics.csv into project 'trackio-csv-import' as run 'trackio_demo_metrics'\n",
            "* Metrics found: metricx, metricy\n",
            "* View dashboard by running in your terminal:\n",
            "\u001b[1m\u001b[93mtrackio show --project \"trackio-csv-import\"\u001b[0m\n",
            "* or by running in Python: trackio.show(project=\"trackio-csv-import\")\n",
            "* Running on public URL: https://76bbc3bd25ff0863eb.gradio.live\n",
            "* Trackio UI launched at: https://76bbc3bd25ff0863eb.gradio.live/?project=trackio-demo\n"
          ]
        }
      ],
      "source": [
        "csv_path = \"/content/trackio_demo_metrics.csv\"\n",
        "df_csv = pd.DataFrame({\n",
        "    \"step\": np.arange(10),\n",
        "    \"metric_x\": np.linspace(1.0, 0.2, 10),\n",
        "    \"metric_y\": np.linspace(0.1, 0.9, 10),\n",
        "})\n",
        "df_csv.to_csv(csv_path, index=False)\n",
        "trackio.import_csv(csv_path, project=\"trackio-csv-import\")\n",
        "\n",
        "\n",
        "app = trackio.show(project=\"trackio-demo\")\n",
        "# trackio.init(project=\"myproj\", space_id=\"username/trackio-demo-space\")"
      ]
    }
  ]
}