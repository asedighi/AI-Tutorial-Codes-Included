{
  "nbformat": 4,
  "nbformat_minor": 0,
  "metadata": {
    "colab": {
      "provenance": []
    },
    "kernelspec": {
      "name": "python3",
      "display_name": "Python 3"
    },
    "language_info": {
      "name": "python"
    }
  },
  "cells": [
    {
      "cell_type": "code",
      "source": [
        "!apt-get -qq update\n",
        "!apt-get -qq install -y octave gnuplot octave-signal octave-control > /dev/null\n",
        "!python -m pip -q install oct2py scipy matplotlib pillow\n",
        "\n",
        "from oct2py import Oct2Py, Oct2PyError\n",
        "import numpy as np, matplotlib.pyplot as plt, textwrap\n",
        "from scipy.io import savemat, loadmat\n",
        "from PIL import Image\n",
        "\n",
        "oc = Oct2Py()\n",
        "print(\"Octave version:\", oc.eval(\"version\"))\n",
        "\n",
        "def show_png(path, title=None):\n",
        "    img = Image.open(path)\n",
        "    plt.figure(figsize=(5,4)); plt.imshow(img); plt.axis(\"off\")\n",
        "    if title: plt.title(title)\n",
        "    plt.show()"
      ],
      "metadata": {
        "id": "sfacpmRf4cU8"
      },
      "execution_count": null,
      "outputs": []
    },
    {
      "cell_type": "code",
      "source": [
        "print(\"\\n--- Basic eval ---\")\n",
        "print(oc.eval(\"A = magic(4); A\"))\n",
        "print(\"eig(A) diag:\", oc.eval(\"[V,D]=eig(A); diag(D)'\"))\n",
        "print(\"sin(pi/4):\", oc.eval(\"sin(pi/4)\"))\n",
        "\n",
        "print(\"\\n--- NumPy exchange ---\")\n",
        "x = np.linspace(0, 2*np.pi, 100)\n",
        "y = np.sin(x) + 0.1*np.random.randn(x.size)\n",
        "y_filt = oc.feval(\"conv\", y, np.ones(5)/5.0, \"same\")\n",
        "print(\"y_filt shape:\", np.asarray(y_filt).shape)\n",
        "\n",
        "print(\"\\n--- Cells & Structs ---\")\n",
        "cells = [\"hello\", 42, [1,2,3]]\n",
        "oc.push(\"C\", cells)\n",
        "oc.eval(\"s = struct('name','Ada','score',99,'tags',{C});\")\n",
        "s = oc.pull(\"s\")\n",
        "print(\"Struct from Octave -> Python:\", s)"
      ],
      "metadata": {
        "id": "HU9bB6az4dei"
      },
      "execution_count": null,
      "outputs": []
    },
    {
      "cell_type": "code",
      "source": [
        "print(\"\\n--- Writing and calling .m files ---\")\n",
        "gd_code = r\"\"\"\n",
        "function [w, hist] = gradient_descent(X, y, alpha, iters)\n",
        "  % X: (n,m), y: (n,1). Adds bias; returns weights and loss history.\n",
        "  if size(X,2) == 0, error('X must be 2D'); end\n",
        "  n = rows(X);\n",
        "  Xb = [ones(n,1), X];\n",
        "  m = columns(Xb);\n",
        "  w = zeros(m,1);\n",
        "  hist = zeros(iters,1);\n",
        "  for t=1:iters\n",
        "    yhat = Xb*w;\n",
        "    g = (Xb'*(yhat - y))/n;\n",
        "    w = w - alpha * g;\n",
        "    hist(t) = (sum((yhat - y).^2)/(2*n));\n",
        "  endfor\n",
        "endfunction\n",
        "\"\"\"\n",
        "with open(\"gradient_descent.m\",\"w\") as f: f.write(textwrap.dedent(gd_code))\n",
        "\n",
        "np.random.seed(0)\n",
        "X = np.random.randn(200, 3)\n",
        "true_w = np.array([2.0, -1.0, 0.5, 3.0])\n",
        "y = true_w[0] + X @ true_w[1:] + 0.3*np.random.randn(200)\n",
        "w_est, hist = oc.gradient_descent(X, y.reshape(-1,1), 0.1, 100, nout=2)\n",
        "print(\"Estimated w:\", np.ravel(w_est))\n",
        "print(\"Final loss:\", float(np.ravel(hist)[-1]))\n",
        "\n",
        "print(\"\\n--- Octave plotting -> PNG -> Python display ---\")\n",
        "oc.eval(\"x = linspace(0,2*pi,400); y = sin(2*x) .* exp(-0.2*x);\")\n",
        "oc.eval(\"figure('visible','off'); plot(x,y,'linewidth',2); grid on; title('Damped Sine (Octave)');\")\n",
        "plot_path = \"/content/oct_plot.png\"\n",
        "oc.eval(f\"print('{plot_path}','-dpng'); close all;\")\n",
        "show_png(plot_path, title=\"Octave-generated Plot\")"
      ],
      "metadata": {
        "id": "KW14_gAQ4jgA"
      },
      "execution_count": null,
      "outputs": []
    },
    {
      "cell_type": "code",
      "source": [
        "print(\"\\n--- Packages (signal/control) ---\")\n",
        "signal_ok = True\n",
        "try:\n",
        "    oc.eval(\"pkg load signal; pkg load control;\")\n",
        "    print(\"Loaded: signal, control\")\n",
        "except Oct2PyError as e:\n",
        "    signal_ok = False\n",
        "    print(\"Could not load signal/control, skipping package demo.\\nReason:\", str(e).splitlines()[0])\n",
        "\n",
        "if signal_ok:\n",
        "    oc.push(\"t\", np.linspace(0,1,800))\n",
        "    oc.eval(\"x = sin(2*pi*5*t) + 0.5*sin(2*pi*40*t);\")\n",
        "    oc.eval(\"[b,a] = butter(4, 10/(800/2)); xf = filtfilt(b,a,x);\")\n",
        "    xf = oc.pull(\"xf\")\n",
        "    plt.figure(); plt.plot(xf); plt.title(\"Octave signal package: filtered\"); plt.show()\n",
        "\n",
        "print(\"\\n--- Function handles ---\")\n",
        "oc.eval(\"\"\"\n",
        "f = @(z) z.^2 + 3*z + 2;\n",
        "vals = feval(f, [0 1 2 3]);\n",
        "\"\"\")\n",
        "vals = oc.pull(\"vals\")\n",
        "print(\"f([0,1,2,3]) =\", np.ravel(vals))\n",
        "\n",
        "quadfun_code = r\"\"\"\n",
        "function y = quadfun(z)\n",
        "  y = z.^2 + 3*z + 2;\n",
        "end\n",
        "\"\"\"\n",
        "with open(\"quadfun.m\",\"w\") as f: f.write(textwrap.dedent(quadfun_code))\n",
        "vals2 = oc.quadfun(np.array([0,1,2,3], dtype=float))\n",
        "print(\"quadfun([0,1,2,3]) =\", np.ravel(vals2))"
      ],
      "metadata": {
        "id": "LUJxoEow4n5t"
      },
      "execution_count": null,
      "outputs": []
    },
    {
      "cell_type": "code",
      "source": [
        "print(\"\\n--- .mat I/O ---\")\n",
        "data_py = {\"A\": np.arange(9).reshape(3,3), \"label\": \"demo\"}\n",
        "savemat(\"demo.mat\", data_py)\n",
        "oc.eval(\"load('demo.mat'); A2 = A + 1;\")\n",
        "oc.eval(\"save('-mat','demo_from_octave.mat','A2','label');\")\n",
        "back = loadmat(\"demo_from_octave.mat\")\n",
        "print(\"Keys from Octave-saved mat:\", list(back.keys()))\n",
        "\n",
        "print(\"\\n--- Error handling ---\")\n",
        "try:\n",
        "    oc.eval(\"no_such_function(1,2,3);\")\n",
        "except Oct2PyError as e:\n",
        "    print(\"Caught Octave error as Python exception:\\n\", str(e).splitlines()[0])\n",
        "\n",
        "print(\"\\n--- Simple Octave benchmark ---\")\n",
        "oc.eval(\"N = 2e6; a = rand(N,1);\")\n",
        "\n",
        "oc.eval(\"tic; s1 = sum(a); tv = toc;\")\n",
        "t_vec = float(oc.pull(\"tv\"))\n",
        "\n",
        "oc.eval(\"tic; s2 = 0; for i=1:length(a), s2 += a(i); end; tl = toc;\")\n",
        "t_loop = float(oc.pull(\"tl\"))\n",
        "\n",
        "print(f\"Vectorized sum: {t_vec:.4f}s | Loop sum: {t_loop:.4f}s\")\n",
        "\n",
        "print(\"\\n--- Multi-file pipeline ---\")\n",
        "pipeline_m = r\"\"\"\n",
        "function out = mini_pipeline(x, fs)\n",
        "  try, pkg load signal; catch, end\n",
        "  [b,a] = butter(6, 0.2);\n",
        "  y = filtfilt(b,a,x);\n",
        "  y_env = abs(hilbert(y));\n",
        "  out = struct('rms', sqrt(mean(y.^2)), 'peak', max(abs(y)), 'env', y_env(1:10));\n",
        "end\n",
        "\"\"\"\n",
        "with open(\"mini_pipeline.m\",\"w\") as f: f.write(textwrap.dedent(pipeline_m))\n",
        "\n",
        "fs = 200.0\n",
        "sig = np.sin(2*np.pi*3*np.linspace(0,3,int(3*fs))) + 0.1*np.random.randn(int(3*fs))\n",
        "out = oc.mini_pipeline(sig, fs, nout=1)\n",
        "print(\"mini_pipeline -> keys:\", list(out.keys()))\n",
        "print(\"RMS ~\", float(out[\"rms\"]), \"| Peak ~\", float(out[\"peak\"]), \"| env head:\", np.ravel(out[\"env\"])[:5])\n",
        "\n",
        "print(\"\\nAll sections executed. You are now running MATLAB/Octave code from Python!\")"
      ],
      "metadata": {
        "colab": {
          "base_uri": "https://localhost:8080/",
          "height": 1000
        },
        "id": "WVdcxkBZdDKI",
        "outputId": "e8d82b0c-c434-4528-9158-52c1fe6b8891"
      },
      "execution_count": 5,
      "outputs": [
        {
          "output_type": "stream",
          "name": "stdout",
          "text": [
            "W: Skipping acquire of configured file 'main/source/Sources' as repository 'https://r2u.stat.illinois.edu/ubuntu jammy InRelease' does not seem to provide it (sources.list entry misspelt?)\n",
            "ans = 6.4.0\n",
            "Octave version: 6.4.0\n",
            "\n",
            "--- Basic eval ---\n",
            "A =\n",
            "\n",
            "   16    2    3   13\n",
            "    5   11   10    8\n",
            "    9    7    6   12\n",
            "    4   14   15    1\n",
            "\n",
            "None\n",
            "ans =\n",
            "\n",
            "   3.4000e+01   8.9443e+00  -8.9443e+00   2.0576e-15\n",
            "\n",
            "eig(A) diag: [[ 3.40000000e+01  8.94427191e+00 -8.94427191e+00  2.05764328e-15]]\n",
            "ans = 0.7071\n",
            "sin(pi/4): 0.7071067811865475\n",
            "\n",
            "--- NumPy exchange ---\n",
            "y_filt shape: (1, 100)\n",
            "\n",
            "--- Cells & Structs ---\n",
            "Struct from Octave -> Python: {'name': 'Ada', 'score': 99.0, 'tags': Cell([['hello', 42.0, array([[1., 2., 3.]])]])}\n",
            "\n",
            "--- Writing and calling .m files ---\n",
            "Estimated w: [ 1.95494178 -0.99214262  0.45687838  2.97437268]\n",
            "Final loss: 0.04135165651803543\n",
            "\n",
            "--- Octave plotting -> PNG -> Python display ---\n"
          ]
        },
        {
          "output_type": "display_data",
          "data": {
            "text/plain": [
              "<Figure size 500x400 with 1 Axes>"
            ],
            "image/png": "[encoded data removed]"
          },
          "metadata": {}
        },
        {
          "output_type": "stream",
          "name": "stdout",
          "text": [
            "\n",
            "--- Packages (signal/control) ---\n",
            "Loaded: signal, control\n"
          ]
        },
        {
          "output_type": "display_data",
          "data": {
            "text/plain": [
              "<Figure size 640x480 with 1 Axes>"
            ],
            "image/png": "[encoded data removed]"
          },
          "metadata": {}
        },
        {
          "output_type": "stream",
          "name": "stdout",
          "text": [
            "\n",
            "--- Function handles ---\n",
            "f([0,1,2,3]) = [ 2.  6. 12. 20.]\n",
            "quadfun([0,1,2,3]) = [ 2.  6. 12. 20.]\n",
            "\n",
            "--- .mat I/O ---\n",
            "Keys from Octave-saved mat: ['__header__', '__version__', '__globals__', 'A2', 'label']\n",
            "\n",
            "--- Error handling ---\n",
            "Caught Octave error as Python exception:\n",
            " Octave evaluation error:\n",
            "\n",
            "--- Simple Octave benchmark ---\n",
            "Vectorized sum: 0.0062s | Loop sum: 5.1294s\n",
            "\n",
            "--- Multi-file pipeline ---\n",
            "mini_pipeline -> keys: ['rms', 'peak', 'env']\n",
            "RMS ~ 0.7064386470755233 | Peak ~ 1.120639650248206 | env head: [1.02042175 0.94322802 0.94432314 0.92721811 0.9351104 ]\n",
            "\n",
            "All sections executed. You are now running MATLAB/Octave code from Python!\n"
          ]
        }
      ]
    }
  ]
}